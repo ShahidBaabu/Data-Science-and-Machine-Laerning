{
 "cells": [
  {
   "cell_type": "code",
   "execution_count": 22,
   "id": "54c4dc2e",
   "metadata": {},
   "outputs": [
    {
     "name": "stdout",
     "output_type": "stream",
     "text": [
      "{'Bangalore': 637, 'Mumbai': 449, 'NCR': 709}\n"
     ]
    }
   ],
   "source": [
    "import numpy as np\n",
    "import pandas as pd\n",
    "import matplotlib.pyplot as plt\n",
    "import csv\n",
    "\n",
    "\n",
    "df_start=pd.read_csv('startup_funding.csv', encoding='utf-8')\n",
    "df_start['CityLocation'].dropna(inplace=True)\n",
    "\n",
    "df_start['CityLocation'].replace('Delhi','New Delhi',inplace = True)\n",
    "df_start['CityLocation'].replace('bangalore','Bangalore',inplace = True)\n",
    "\n",
    "\n",
    "d = {'Bangalore':0,'Mumbai':0, 'NCR':0}\n",
    "\n",
    "def GetCount(name):\n",
    "    name = str(name)\n",
    "    l = name.split('/')\n",
    "    for i in l:\n",
    "        i = i.strip()\n",
    "        #print(i)\n",
    "        if i == 'Bangalore':\n",
    "            d['Bangalore'] +=1\n",
    "        elif i =='Mumbai':\n",
    "            d['Mumbai'] +=1\n",
    "        elif i =='Noida':\n",
    "            d['NCR'] +=1\n",
    "        elif i =='New Delhi':\n",
    "            d['NCR'] +=1\n",
    "        elif i =='Gurgaon':\n",
    "            d['NCR'] +=1\n",
    "    return l\n",
    "        \n",
    "df_start.CityLocation.apply(GetCount)    \n",
    "print(d)"
   ]
  },
  {
   "cell_type": "code",
   "execution_count": 21,
   "id": "8bcf3611",
   "metadata": {},
   "outputs": [
    {
     "data": {
      "image/png": "[encoded data removed]",
      "text/plain": [
       "<Figure size 432x288 with 1 Axes>"
      ]
     },
     "metadata": {
      "needs_background": "light"
     },
     "output_type": "display_data"
    }
   ],
   "source": [
    "#plotting ghraph\n",
    "cities = list(d.keys())\n",
    "fundings = list(d.values())\n",
    "\n",
    "plt.bar(cities, fundings)\n",
    "plt.title('Fundings Bar Graph')\n",
    "#plt.grid()\n",
    "plt.show()"
   ]
  },
  {
   "cell_type": "code",
   "execution_count": null,
   "id": "62ff8375",
   "metadata": {},
   "outputs": [],
   "source": []
  }
 ],
 "metadata": {
  "kernelspec": {
   "display_name": "Python 3 (ipykernel)",
   "language": "python",
   "name": "python3"
  },
  "language_info": {
   "codemirror_mode": {
    "name": "ipython",
    "version": 3
   },
   "file_extension": ".py",
   "mimetype": "text/x-python",
   "name": "python",
   "nbconvert_exporter": "python",
   "pygments_lexer": "ipython3",
   "version": "3.9.12"
  }
 },
 "nbformat": 4,
 "nbformat_minor": 5
}
