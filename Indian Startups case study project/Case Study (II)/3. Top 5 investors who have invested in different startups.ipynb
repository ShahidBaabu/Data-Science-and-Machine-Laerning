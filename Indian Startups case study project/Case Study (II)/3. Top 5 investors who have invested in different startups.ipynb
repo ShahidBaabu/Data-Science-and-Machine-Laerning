{
 "cells": [
  {
   "cell_type": "code",
   "execution_count": 6,
   "id": "925d88ad",
   "metadata": {},
   "outputs": [],
   "source": [
    "import numpy as np\n",
    "import pandas as pd\n",
    "import matplotlib.pyplot as plt\n",
    "import csv\n",
    "\n",
    "\n",
    "df=pd.read_csv('startup_funding.csv', encoding='utf-8')"
   ]
  },
  {
   "cell_type": "code",
   "execution_count": 7,
   "id": "e376074d",
   "metadata": {},
   "outputs": [
    {
     "name": "stdout",
     "output_type": "stream",
     "text": [
      "['Sequoia Capital' 'Accel Partners' 'Kalaari Capital'\n",
      " 'Indian Angel Network' 'Blume Ventures']\n"
     ]
    },
    {
     "data": {
      "image/png": "[encoded data removed]",
      "text/plain": [
       "<Figure size 432x288 with 1 Axes>"
      ]
     },
     "metadata": {
      "needs_background": "light"
     },
     "output_type": "display_data"
    }
   ],
   "source": [
    "df.dropna(subset=['InvestorsName','StartupName'], inplace = True)\n",
    "\n",
    "df['StartupName'].replace('Flipkart.com','Flipkart',inplace=True)\n",
    "df['StartupName'].replace('Ola Cabs','Ola',inplace=True)\n",
    "df['StartupName'].replace('Olacabs','Ola',inplace=True)\n",
    "df['StartupName'].replace('Ola Cabs','Ola',inplace=True)\n",
    "df['StartupName'].replace('Olacabs','Ola',inplace=True)\n",
    "df['StartupName'].replace('Oyo Rooms','Oyo',inplace=True)\n",
    "df['StartupName'].replace('Oyorooms','Oyo',inplace=True)\n",
    "df['StartupName'].replace('OyoRooms','Oyo',inplace=True)\n",
    "df['StartupName'].replace('OYO Rooms','Oyo',inplace=True)\n",
    "df['StartupName'].replace('Paytm Marketplace','Paytm',inplace=True)\n",
    "\n",
    "investors = list(df.InvestorsName)\n",
    "startups = list(df.StartupName)\n",
    "\n",
    "d = {}\n",
    "\n",
    "for i in range(len(investors)):\n",
    "    invest = investors[i].split(',')\n",
    "    for inv in invest:\n",
    "        inv = inv.strip()\n",
    "        if inv != '':\n",
    "            if inv in d:\n",
    "                s_ups = d[inv]\n",
    "                s_ups.add(startups[i])\n",
    "                d[inv] = s_ups\n",
    "            else:\n",
    "                d[inv] = {startups[i]}\n",
    "\n",
    "#print(d)\n",
    "for i in d:\n",
    "    d[i] = len(d[i])\n",
    "    \n",
    "#print(d)\n",
    "values = np.array(list(d.values()))\n",
    "Investors_ = np.array(list(d.keys()))\n",
    "ind = values.argsort()[::-1]\n",
    "ind = ind[:5]\n",
    "\n",
    "Five_Inv = Investors_[ind]\n",
    "count = values[ind]\n",
    "\n",
    "print(Five_Inv)\n",
    "\n",
    "plt.bar(Five_Inv,count)\n",
    "plt.xticks(rotation = 30)\n",
    "plt.show()"
   ]
  },
  {
   "cell_type": "code",
   "execution_count": null,
   "id": "50678ca4",
   "metadata": {},
   "outputs": [],
   "source": []
  }
 ],
 "metadata": {
  "kernelspec": {
   "display_name": "Python 3 (ipykernel)",
   "language": "python",
   "name": "python3"
  },
  "language_info": {
   "codemirror_mode": {
    "name": "ipython",
    "version": 3
   },
   "file_extension": ".py",
   "mimetype": "text/x-python",
   "name": "python",
   "nbconvert_exporter": "python",
   "pygments_lexer": "ipython3",
   "version": "3.9.12"
  }
 },
 "nbformat": 4,
 "nbformat_minor": 5
}
