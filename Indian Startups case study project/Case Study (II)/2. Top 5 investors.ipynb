{
 "cells": [
  {
   "cell_type": "code",
   "execution_count": 21,
   "id": "6816322d",
   "metadata": {},
   "outputs": [],
   "source": [
    "import numpy as np\n",
    "import pandas as pd\n",
    "import matplotlib.pyplot as plt\n",
    "import csv\n",
    "\n",
    "\n",
    "df=pd.read_csv('startup_funding.csv', encoding='utf-8')\n",
    "\n",
    "\n"
   ]
  },
  {
   "cell_type": "code",
   "execution_count": 22,
   "id": "4032b994",
   "metadata": {},
   "outputs": [
    {
     "name": "stdout",
     "output_type": "stream",
     "text": [
      "['Sequoia Capital' 'Accel Partners' 'Kalaari Capital' 'SAIF Partners'\n",
      " 'Indian Angel Network']\n"
     ]
    }
   ],
   "source": [
    "df.InvestorsName.dropna(inplace = True)\n",
    "\n",
    "d = {}\n",
    "\n",
    "def GetInvestors(name):\n",
    "    name = str(name)\n",
    "    l = name.split(',')\n",
    "    for i in l:\n",
    "        i = i.strip()\n",
    "        d[i] = d.get(i,0) + 1\n",
    "    return l\n",
    "\n",
    "df.InvestorsName = df.InvestorsName.apply(GetInvestors)\n",
    "\n",
    "Investors = np.array(list(d.keys()))\n",
    "count = np.array(list(d.values()))\n",
    "\n",
    "ind = count.argsort()[::-1]\n",
    "\n",
    "ind = ind[:5]\n",
    "values = count[ind]\n",
    "\n",
    "Top_investors = Investors[ind]\n",
    "\n",
    "print(Top_investors)\n",
    "\n",
    "#print(d)"
   ]
  },
  {
   "cell_type": "code",
   "execution_count": 28,
   "id": "f9c84700",
   "metadata": {},
   "outputs": [
    {
     "data": {
      "image/png": "[encoded data removed]",
      "text/plain": [
       "<Figure size 432x288 with 1 Axes>"
      ]
     },
     "metadata": {
      "needs_background": "light"
     },
     "output_type": "display_data"
    }
   ],
   "source": [
    "plt.bar(Top_investors,values)\n",
    "plt.xticks(rotation = 30)\n",
    "plt.show()"
   ]
  },
  {
   "cell_type": "code",
   "execution_count": null,
   "id": "d1cef4b9",
   "metadata": {},
   "outputs": [],
   "source": []
  }
 ],
 "metadata": {
  "kernelspec": {
   "display_name": "Python 3 (ipykernel)",
   "language": "python",
   "name": "python3"
  },
  "language_info": {
   "codemirror_mode": {
    "name": "ipython",
    "version": 3
   },
   "file_extension": ".py",
   "mimetype": "text/x-python",
   "name": "python",
   "nbconvert_exporter": "python",
   "pygments_lexer": "ipython3",
   "version": "3.9.12"
  }
 },
 "nbformat": 4,
 "nbformat_minor": 5
}
